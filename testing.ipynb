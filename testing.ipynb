{
 "cells": [
  {
   "cell_type": "code",
   "execution_count": 5,
   "metadata": {},
   "outputs": [],
   "source": [
    "from deepface import DeepFace"
   ]
  },
  {
   "cell_type": "code",
   "execution_count": null,
   "metadata": {},
   "outputs": [],
   "source": []
  },
  {
   "cell_type": "code",
   "execution_count": 62,
   "metadata": {},
   "outputs": [
    {
     "name": "stdout",
     "output_type": "stream",
     "text": [
      "WARNING: Representations for images in ./dataset/ folder were previously stored in representations_facenet512.pkl. If you added new instances after the creation, then please delete this file and call find function again. It will create it again.\n",
      "There are  16  representations found in  representations_facenet512.pkl\n",
      "find function lasts  0.32393693923950195  seconds\n"
     ]
    }
   ],
   "source": [
    "status = DeepFace.find(\"./test_images/mahmoud0.jpeg\",\n",
    "                       \"./dataset/\",\n",
    "                       model_name=\"Facenet512\",\n",
    "                       distance_metric=\"euclidean_l2\",\n",
    "                       enforce_detection=True,\n",
    "                       detector_backend=\"ssd\",\n",
    "                       silent=False)\n"
   ]
  },
  {
   "cell_type": "code",
   "execution_count": 63,
   "metadata": {},
   "outputs": [
    {
     "data": {
      "text/plain": [
       "[                                  identity  source_x  source_y  source_w  \\\n",
       " 0  ./dataset/Mahmoud_Ibrahim/mahmoud1.jpeg       201       469       306   \n",
       " \n",
       "    source_h  Facenet512_euclidean_l2  \n",
       " 0       400                 0.931812  ]"
      ]
     },
     "execution_count": 63,
     "metadata": {},
     "output_type": "execute_result"
    }
   ],
   "source": [
    "status"
   ]
  },
  {
   "cell_type": "code",
   "execution_count": 98,
   "metadata": {},
   "outputs": [
    {
     "name": "stderr",
     "output_type": "stream",
     "text": [
      "Action: emotion: 100%|██████████| 4/4 [00:01<00:00,  2.64it/s]\n"
     ]
    }
   ],
   "source": [
    "objs = DeepFace.analyze(\n",
    "    \"dataset/abdo_webcam/abdo_webcam_4.jpg\",\n",
    "    actions=['age', 'gender', 'race', 'emotion'],\n",
    "    enforce_detection=True,\n",
    "    detector_backend=\"opencv\",\n",
    "    silent=False)\n"
   ]
  },
  {
   "cell_type": "code",
   "execution_count": 67,
   "metadata": {},
   "outputs": [
    {
     "data": {
      "text/plain": [
       "'./dataset/Mahmoud_Ibrahim/mahmoud1.jpeg'"
      ]
     },
     "execution_count": 67,
     "metadata": {},
     "output_type": "execute_result"
    }
   ],
   "source": [
    "status[0].iloc[0]['identity']"
   ]
  },
  {
   "cell_type": "code",
   "execution_count": 99,
   "metadata": {},
   "outputs": [
    {
     "data": {
      "text/plain": [
       "[{'age': 25,\n",
       "  'region': {'x': 232, 'y': 65, 'w': 218, 'h': 218},\n",
       "  'gender': {'Woman': 0.01069202771759592, 'Man': 99.9893069267273},\n",
       "  'dominant_gender': 'Man',\n",
       "  'race': {'asian': 12.555986642837524,\n",
       "   'indian': 17.972472310066223,\n",
       "   'black': 5.809361115098,\n",
       "   'white': 15.3235524892807,\n",
       "   'middle eastern': 15.477535128593445,\n",
       "   'latino hispanic': 32.861095666885376},\n",
       "  'dominant_race': 'latino hispanic',\n",
       "  'emotion': {'angry': 0.028008123626932502,\n",
       "   'disgust': 1.905422868098139e-10,\n",
       "   'fear': 0.01923340605571866,\n",
       "   'happy': 9.739098913996713e-05,\n",
       "   'sad': 1.4154305505442721e-07,\n",
       "   'surprise': 99.95266199111938,\n",
       "   'neutral': 1.3880204277616492e-09},\n",
       "  'dominant_emotion': 'surprise'}]"
      ]
     },
     "execution_count": 99,
     "metadata": {},
     "output_type": "execute_result"
    }
   ],
   "source": [
    "objs"
   ]
  },
  {
   "cell_type": "code",
   "execution_count": 100,
   "metadata": {},
   "outputs": [
    {
     "data": {
      "text/plain": [
       "{'person_0': {'age': 25,\n",
       "  'dominant_gender': 'Man',\n",
       "  'dominant_race': 'latino hispanic',\n",
       "  'dominant_emotion': 'surprise'}}"
      ]
     },
     "execution_count": 100,
     "metadata": {},
     "output_type": "execute_result"
    }
   ],
   "source": [
    "keys = ['age', 'dominant_gender', 'dominant_race', 'dominant_emotion']\n",
    "person = {}\n",
    "facial_analysis = {}\n",
    "# for x in objs:\n",
    "#     for idx, face in enumerate(x):\n",
    "#         for k, v in face.items():\n",
    "#             if k in keys:\n",
    "#                 person[k] = v\n",
    "#         facial_analysis[f\"person_{idx}\"] = person\n",
    "\n",
    "for idx, face in enumerate(objs):\n",
    "    for k, v in face.items():\n",
    "        if k in keys:\n",
    "            person[k] = v\n",
    "    facial_analysis[f\"person_{idx}\"] = person\n",
    "\n",
    "facial_analysis"
   ]
  },
  {
   "cell_type": "code",
   "execution_count": null,
   "metadata": {},
   "outputs": [],
   "source": []
  }
 ],
 "metadata": {
  "kernelspec": {
   "display_name": "Python 3",
   "language": "python",
   "name": "python3"
  },
  "language_info": {
   "codemirror_mode": {
    "name": "ipython",
    "version": 3
   },
   "file_extension": ".py",
   "mimetype": "text/x-python",
   "name": "python",
   "nbconvert_exporter": "python",
   "pygments_lexer": "ipython3",
   "version": "3.10.6"
  },
  "orig_nbformat": 4
 },
 "nbformat": 4,
 "nbformat_minor": 2
}
